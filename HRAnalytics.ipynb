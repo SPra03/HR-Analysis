{
  "nbformat": 4,
  "nbformat_minor": 0,
  "metadata": {
    "colab": {
      "name": "HRAnalytics.ipynb",
      "provenance": [],
      "collapsed_sections": [
        "_rHIz2b0DxLv",
        "yPofYvqlGfYg",
        "ssMjegmzGrar",
        "Me7HmAhSSk8Y",
        "CtQKPfqvViDz"
      ],
      "toc_visible": true
    },
    "kernelspec": {
      "name": "python3",
      "display_name": "Python 3"
    }
  },
  "cells": [
    {
      "cell_type": "code",
      "metadata": {
        "id": "sDAqDHbz-XrK",
        "colab_type": "code",
        "colab": {}
      },
      "source": [
        "from google.colab import drive\n",
        "drive.mount(\"/content/drive\", force_remount=True)"
      ],
      "execution_count": 0,
      "outputs": []
    },
    {
      "cell_type": "code",
      "metadata": {
        "id": "Byp5MLC3_IGu",
        "colab_type": "code",
        "colab": {}
      },
      "source": [
        "import os\n",
        "os.chdir(\"drive/My Drive/ColabData/HR analytics\")\n",
        "os.listdir()"
      ],
      "execution_count": 0,
      "outputs": []
    },
    {
      "cell_type": "markdown",
      "metadata": {
        "id": "_rHIz2b0DxLv",
        "colab_type": "text"
      },
      "source": [
        "# Importing Libraries "
      ]
    },
    {
      "cell_type": "code",
      "metadata": {
        "id": "WypXJicwAHmf",
        "colab_type": "code",
        "cellView": "both",
        "colab": {}
      },
      "source": [
        "\n",
        "import pandas as pd\n",
        "import seaborn as sns\n",
        "from sklearn.metrics import f1_score , accuracy_score\n",
        "import matplotlib.pyplot as plt\n"
      ],
      "execution_count": 0,
      "outputs": []
    },
    {
      "cell_type": "markdown",
      "metadata": {
        "id": "yPofYvqlGfYg",
        "colab_type": "text"
      },
      "source": [
        "# Wrangling Data"
      ]
    },
    {
      "cell_type": "code",
      "metadata": {
        "id": "ZoryQc-P_boS",
        "colab_type": "code",
        "cellView": "both",
        "colab": {}
      },
      "source": [
        "train=pd.read_csv('train_LZdllcl.csv')\n",
        "test=pd.read_csv('test_2umaH9m.csv')"
      ],
      "execution_count": 0,
      "outputs": []
    },
    {
      "cell_type": "markdown",
      "metadata": {
        "id": "ssMjegmzGrar",
        "colab_type": "text"
      },
      "source": [
        "# Exploratory Data Analysis"
      ]
    },
    {
      "cell_type": "code",
      "metadata": {
        "id": "818qOzrAATiU",
        "colab_type": "code",
        "outputId": "69373054-f7cf-4342-8ca0-2e5cf1d93f24",
        "colab": {
          "base_uri": "https://localhost:8080/",
          "height": 51
        }
      },
      "source": [
        "print(\"Train Data Shape\",train.shape)\n",
        "print(\"Test Data Shape \",test.shape)"
      ],
      "execution_count": 5,
      "outputs": [
        {
          "output_type": "stream",
          "text": [
            "Train Data Shape (54808, 14)\n",
            "Test Data Shape  (23490, 13)\n"
          ],
          "name": "stdout"
        }
      ]
    },
    {
      "cell_type": "code",
      "metadata": {
        "id": "SJZHjaSHHXNO",
        "colab_type": "code",
        "outputId": "b489703d-581c-4f4b-cff0-03c5c3670331",
        "colab": {
          "base_uri": "https://localhost:8080/",
          "height": 292
        }
      },
      "source": [
        "train.head()"
      ],
      "execution_count": 0,
      "outputs": [
        {
          "output_type": "execute_result",
          "data": {
            "text/html": [
              "<div>\n",
              "<style scoped>\n",
              "    .dataframe tbody tr th:only-of-type {\n",
              "        vertical-align: middle;\n",
              "    }\n",
              "\n",
              "    .dataframe tbody tr th {\n",
              "        vertical-align: top;\n",
              "    }\n",
              "\n",
              "    .dataframe thead th {\n",
              "        text-align: right;\n",
              "    }\n",
              "</style>\n",
              "<table border=\"1\" class=\"dataframe\">\n",
              "  <thead>\n",
              "    <tr style=\"text-align: right;\">\n",
              "      <th></th>\n",
              "      <th>employee_id</th>\n",
              "      <th>department</th>\n",
              "      <th>region</th>\n",
              "      <th>education</th>\n",
              "      <th>gender</th>\n",
              "      <th>recruitment_channel</th>\n",
              "      <th>no_of_trainings</th>\n",
              "      <th>age</th>\n",
              "      <th>previous_year_rating</th>\n",
              "      <th>length_of_service</th>\n",
              "      <th>KPIs_met &gt;80%</th>\n",
              "      <th>awards_won?</th>\n",
              "      <th>avg_training_score</th>\n",
              "      <th>is_promoted</th>\n",
              "    </tr>\n",
              "  </thead>\n",
              "  <tbody>\n",
              "    <tr>\n",
              "      <th>0</th>\n",
              "      <td>65438</td>\n",
              "      <td>Sales &amp; Marketing</td>\n",
              "      <td>region_7</td>\n",
              "      <td>Master's &amp; above</td>\n",
              "      <td>f</td>\n",
              "      <td>sourcing</td>\n",
              "      <td>1</td>\n",
              "      <td>35</td>\n",
              "      <td>5.0</td>\n",
              "      <td>8</td>\n",
              "      <td>1</td>\n",
              "      <td>0</td>\n",
              "      <td>49</td>\n",
              "      <td>0</td>\n",
              "    </tr>\n",
              "    <tr>\n",
              "      <th>1</th>\n",
              "      <td>65141</td>\n",
              "      <td>Operations</td>\n",
              "      <td>region_22</td>\n",
              "      <td>Bachelor's</td>\n",
              "      <td>m</td>\n",
              "      <td>other</td>\n",
              "      <td>1</td>\n",
              "      <td>30</td>\n",
              "      <td>5.0</td>\n",
              "      <td>4</td>\n",
              "      <td>0</td>\n",
              "      <td>0</td>\n",
              "      <td>60</td>\n",
              "      <td>0</td>\n",
              "    </tr>\n",
              "    <tr>\n",
              "      <th>2</th>\n",
              "      <td>7513</td>\n",
              "      <td>Sales &amp; Marketing</td>\n",
              "      <td>region_19</td>\n",
              "      <td>Bachelor's</td>\n",
              "      <td>m</td>\n",
              "      <td>sourcing</td>\n",
              "      <td>1</td>\n",
              "      <td>34</td>\n",
              "      <td>3.0</td>\n",
              "      <td>7</td>\n",
              "      <td>0</td>\n",
              "      <td>0</td>\n",
              "      <td>50</td>\n",
              "      <td>0</td>\n",
              "    </tr>\n",
              "    <tr>\n",
              "      <th>3</th>\n",
              "      <td>2542</td>\n",
              "      <td>Sales &amp; Marketing</td>\n",
              "      <td>region_23</td>\n",
              "      <td>Bachelor's</td>\n",
              "      <td>m</td>\n",
              "      <td>other</td>\n",
              "      <td>2</td>\n",
              "      <td>39</td>\n",
              "      <td>1.0</td>\n",
              "      <td>10</td>\n",
              "      <td>0</td>\n",
              "      <td>0</td>\n",
              "      <td>50</td>\n",
              "      <td>0</td>\n",
              "    </tr>\n",
              "    <tr>\n",
              "      <th>4</th>\n",
              "      <td>48945</td>\n",
              "      <td>Technology</td>\n",
              "      <td>region_26</td>\n",
              "      <td>Bachelor's</td>\n",
              "      <td>m</td>\n",
              "      <td>other</td>\n",
              "      <td>1</td>\n",
              "      <td>45</td>\n",
              "      <td>3.0</td>\n",
              "      <td>2</td>\n",
              "      <td>0</td>\n",
              "      <td>0</td>\n",
              "      <td>73</td>\n",
              "      <td>0</td>\n",
              "    </tr>\n",
              "  </tbody>\n",
              "</table>\n",
              "</div>"
            ],
            "text/plain": [
              "   employee_id         department  ... avg_training_score is_promoted\n",
              "0        65438  Sales & Marketing  ...                 49           0\n",
              "1        65141         Operations  ...                 60           0\n",
              "2         7513  Sales & Marketing  ...                 50           0\n",
              "3         2542  Sales & Marketing  ...                 50           0\n",
              "4        48945         Technology  ...                 73           0\n",
              "\n",
              "[5 rows x 14 columns]"
            ]
          },
          "metadata": {
            "tags": []
          },
          "execution_count": 83
        }
      ]
    },
    {
      "cell_type": "code",
      "metadata": {
        "id": "kaGRgr8WH79x",
        "colab_type": "code",
        "outputId": "0bfd6084-d237-43af-c6c8-8af239565589",
        "colab": {
          "base_uri": "https://localhost:8080/",
          "height": 280
        }
      },
      "source": [
        "sns.countplot(x='is_promoted', data=train);"
      ],
      "execution_count": 0,
      "outputs": [
        {
          "output_type": "display_data",
          "data": {
            "image/png": "[encoded data removed]",
            "text/plain": [
              "<Figure size 432x288 with 1 Axes>"
            ]
          },
          "metadata": {
            "tags": []
          }
        }
      ]
    },
    {
      "cell_type": "markdown",
      "metadata": {
        "id": "fCNgXEITIeSR",
        "colab_type": "text"
      },
      "source": [
        "This shows there is an imbalance in the dataset.\n",
        "1.People promoted are less\n",
        "2.People not promoted are more\n",
        "3.Imabalance in dataset\n",
        "\n",
        "\n",
        "\n",
        "\n"
      ]
    },
    {
      "cell_type": "code",
      "metadata": {
        "id": "VclN-fcQKFN-",
        "colab_type": "code",
        "outputId": "3a3c59ba-f0b8-43dd-809d-3e10a6606220",
        "colab": {
          "base_uri": "https://localhost:8080/",
          "height": 513
        }
      },
      "source": [
        "#sns.distplot(train['age'],  bins=30);\n",
        "plt.figure(figsize=(10,8))\n",
        "sns.countplot(data=train,x='age',hue='is_promoted').set_title('Previous year rating plot');"
      ],
      "execution_count": 0,
      "outputs": [
        {
          "output_type": "display_data",
          "data": {
            "image/png": "[encoded data removed]",
            "text/plain": [
              "<Figure size 720x576 with 1 Axes>"
            ]
          },
          "metadata": {
            "tags": []
          }
        }
      ]
    },
    {
      "cell_type": "code",
      "metadata": {
        "id": "7BY6BNOCLCOd",
        "colab_type": "code",
        "outputId": "ca6f25ae-a921-48fc-a70e-b5782bb71e31",
        "colab": {
          "base_uri": "https://localhost:8080/",
          "height": 296
        }
      },
      "source": [
        "sns.countplot(data=train,x='previous_year_rating',hue='is_promoted').set_title('Previous year rating plot');"
      ],
      "execution_count": 0,
      "outputs": [
        {
          "output_type": "display_data",
          "data": {
            "image/png": "[encoded data removed]",
            "text/plain": [
              "<Figure size 432x288 with 1 Axes>"
            ]
          },
          "metadata": {
            "tags": []
          }
        }
      ]
    },
    {
      "cell_type": "markdown",
      "metadata": {
        "id": "ZDDiKz6nMjiC",
        "colab_type": "text"
      },
      "source": [
        "People with rating more than 3 are promoted more"
      ]
    },
    {
      "cell_type": "code",
      "metadata": {
        "id": "YO1p_Q0YMLbT",
        "colab_type": "code",
        "outputId": "f03af0cd-b5a9-4e79-cea4-67a3b0abb71f",
        "colab": {
          "base_uri": "https://localhost:8080/",
          "height": 296
        }
      },
      "source": [
        "sns.countplot(data=train,x='awards_won?',hue='is_promoted').set_title('Awards won');"
      ],
      "execution_count": 0,
      "outputs": [
        {
          "output_type": "display_data",
          "data": {
            "image/png": "[encoded data removed]",
            "text/plain": [
              "<Figure size 432x288 with 1 Axes>"
            ]
          },
          "metadata": {
            "tags": []
          }
        }
      ]
    },
    {
      "cell_type": "code",
      "metadata": {
        "id": "Hx9WlJhcNUTc",
        "colab_type": "code",
        "outputId": "b1f5ad48-008f-45d6-8e12-4dfe68d4f40a",
        "colab": {
          "base_uri": "https://localhost:8080/",
          "height": 295
        }
      },
      "source": [
        "sns.countplot(data=train,x='education',hue='is_promoted').set_title('Education Distributions');"
      ],
      "execution_count": 0,
      "outputs": [
        {
          "output_type": "display_data",
          "data": {
            "image/png": "[encoded data removed]",
            "text/plain": [
              "<Figure size 432x288 with 1 Axes>"
            ]
          },
          "metadata": {
            "tags": []
          }
        }
      ]
    },
    {
      "cell_type": "code",
      "metadata": {
        "id": "dcPMCfVoTpFd",
        "colab_type": "code",
        "outputId": "07dfd434-d256-42fa-e9fb-d9709b3cc405",
        "colab": {
          "base_uri": "https://localhost:8080/",
          "height": 404
        }
      },
      "source": [
        "plt.figure(figsize=(12,6))\n",
        "sns.countplot(data=train,x='department',hue='is_promoted').set_title('Department Distributions');"
      ],
      "execution_count": 0,
      "outputs": [
        {
          "output_type": "display_data",
          "data": {
            "image/png": "[encoded data removed]",
            "text/plain": [
              "<Figure size 864x432 with 1 Axes>"
            ]
          },
          "metadata": {
            "tags": []
          }
        }
      ]
    },
    {
      "cell_type": "markdown",
      "metadata": {
        "id": "MnK_SGaNUHXo",
        "colab_type": "text"
      },
      "source": [
        "It can be a product based IT company as per the promotion chart"
      ]
    },
    {
      "cell_type": "code",
      "metadata": {
        "id": "Z_H38VSXXxF9",
        "colab_type": "code",
        "outputId": "4dcccecf-b5f8-446f-fb14-8a8391c91046",
        "colab": {
          "base_uri": "https://localhost:8080/",
          "height": 204
        }
      },
      "source": [
        "department=train.groupby(['department'])\n",
        "department['is_promoted'].mean()"
      ],
      "execution_count": 0,
      "outputs": [
        {
          "output_type": "execute_result",
          "data": {
            "text/plain": [
              "department\n",
              "Analytics            0.095665\n",
              "Finance              0.081230\n",
              "HR                   0.056245\n",
              "Legal                0.051011\n",
              "Operations           0.090148\n",
              "Procurement          0.096386\n",
              "R&D                  0.069069\n",
              "Sales & Marketing    0.072031\n",
              "Technology           0.107593\n",
              "Name: is_promoted, dtype: float64"
            ]
          },
          "metadata": {
            "tags": []
          },
          "execution_count": 98
        }
      ]
    },
    {
      "cell_type": "code",
      "metadata": {
        "id": "XvX18KOEWV37",
        "colab_type": "code",
        "outputId": "6ff30490-cda7-4d37-d0da-0cdfe5e762cb",
        "colab": {
          "base_uri": "https://localhost:8080/",
          "height": 513
        }
      },
      "source": [
        "plt.figure(figsize=(12,8))\n",
        "sns.countplot(data=train,y='region',hue='is_promoted').set_title('Education Distributions');"
      ],
      "execution_count": 0,
      "outputs": [
        {
          "output_type": "display_data",
          "data": {
            "image/png": "[encoded data removed]",
            "text/plain": [
              "<Figure size 864x576 with 1 Axes>"
            ]
          },
          "metadata": {
            "tags": []
          }
        }
      ]
    },
    {
      "cell_type": "markdown",
      "metadata": {
        "id": "XjDdUQqPWymB",
        "colab_type": "text"
      },
      "source": [
        "Some regions have higher promotion rates, but it can also be that there are more number of employees in that area."
      ]
    },
    {
      "cell_type": "code",
      "metadata": {
        "id": "1ji7hXlPgzZW",
        "colab_type": "code",
        "colab": {
          "base_uri": "https://localhost:8080/",
          "height": 334
        },
        "outputId": "63ec8f94-c823-446c-e808-6b4a4984a691"
      },
      "source": [
        "train.describe()"
      ],
      "execution_count": 7,
      "outputs": [
        {
          "output_type": "execute_result",
          "data": {
            "text/html": [
              "<div>\n",
              "<style scoped>\n",
              "    .dataframe tbody tr th:only-of-type {\n",
              "        vertical-align: middle;\n",
              "    }\n",
              "\n",
              "    .dataframe tbody tr th {\n",
              "        vertical-align: top;\n",
              "    }\n",
              "\n",
              "    .dataframe thead th {\n",
              "        text-align: right;\n",
              "    }\n",
              "</style>\n",
              "<table border=\"1\" class=\"dataframe\">\n",
              "  <thead>\n",
              "    <tr style=\"text-align: right;\">\n",
              "      <th></th>\n",
              "      <th>employee_id</th>\n",
              "      <th>no_of_trainings</th>\n",
              "      <th>age</th>\n",
              "      <th>previous_year_rating</th>\n",
              "      <th>length_of_service</th>\n",
              "      <th>KPIs_met &gt;80%</th>\n",
              "      <th>awards_won?</th>\n",
              "      <th>avg_training_score</th>\n",
              "      <th>is_promoted</th>\n",
              "    </tr>\n",
              "  </thead>\n",
              "  <tbody>\n",
              "    <tr>\n",
              "      <th>count</th>\n",
              "      <td>54808.000000</td>\n",
              "      <td>54808.000000</td>\n",
              "      <td>54808.000000</td>\n",
              "      <td>50684.000000</td>\n",
              "      <td>54808.000000</td>\n",
              "      <td>54808.000000</td>\n",
              "      <td>54808.000000</td>\n",
              "      <td>54808.000000</td>\n",
              "      <td>54808.000000</td>\n",
              "    </tr>\n",
              "    <tr>\n",
              "      <th>mean</th>\n",
              "      <td>39195.830627</td>\n",
              "      <td>1.253011</td>\n",
              "      <td>34.803915</td>\n",
              "      <td>3.329256</td>\n",
              "      <td>5.865512</td>\n",
              "      <td>0.351974</td>\n",
              "      <td>0.023172</td>\n",
              "      <td>63.386750</td>\n",
              "      <td>0.085170</td>\n",
              "    </tr>\n",
              "    <tr>\n",
              "      <th>std</th>\n",
              "      <td>22586.581449</td>\n",
              "      <td>0.609264</td>\n",
              "      <td>7.660169</td>\n",
              "      <td>1.259993</td>\n",
              "      <td>4.265094</td>\n",
              "      <td>0.477590</td>\n",
              "      <td>0.150450</td>\n",
              "      <td>13.371559</td>\n",
              "      <td>0.279137</td>\n",
              "    </tr>\n",
              "    <tr>\n",
              "      <th>min</th>\n",
              "      <td>1.000000</td>\n",
              "      <td>1.000000</td>\n",
              "      <td>20.000000</td>\n",
              "      <td>1.000000</td>\n",
              "      <td>1.000000</td>\n",
              "      <td>0.000000</td>\n",
              "      <td>0.000000</td>\n",
              "      <td>39.000000</td>\n",
              "      <td>0.000000</td>\n",
              "    </tr>\n",
              "    <tr>\n",
              "      <th>25%</th>\n",
              "      <td>19669.750000</td>\n",
              "      <td>1.000000</td>\n",
              "      <td>29.000000</td>\n",
              "      <td>3.000000</td>\n",
              "      <td>3.000000</td>\n",
              "      <td>0.000000</td>\n",
              "      <td>0.000000</td>\n",
              "      <td>51.000000</td>\n",
              "      <td>0.000000</td>\n",
              "    </tr>\n",
              "    <tr>\n",
              "      <th>50%</th>\n",
              "      <td>39225.500000</td>\n",
              "      <td>1.000000</td>\n",
              "      <td>33.000000</td>\n",
              "      <td>3.000000</td>\n",
              "      <td>5.000000</td>\n",
              "      <td>0.000000</td>\n",
              "      <td>0.000000</td>\n",
              "      <td>60.000000</td>\n",
              "      <td>0.000000</td>\n",
              "    </tr>\n",
              "    <tr>\n",
              "      <th>75%</th>\n",
              "      <td>58730.500000</td>\n",
              "      <td>1.000000</td>\n",
              "      <td>39.000000</td>\n",
              "      <td>4.000000</td>\n",
              "      <td>7.000000</td>\n",
              "      <td>1.000000</td>\n",
              "      <td>0.000000</td>\n",
              "      <td>76.000000</td>\n",
              "      <td>0.000000</td>\n",
              "    </tr>\n",
              "    <tr>\n",
              "      <th>max</th>\n",
              "      <td>78298.000000</td>\n",
              "      <td>10.000000</td>\n",
              "      <td>60.000000</td>\n",
              "      <td>5.000000</td>\n",
              "      <td>37.000000</td>\n",
              "      <td>1.000000</td>\n",
              "      <td>1.000000</td>\n",
              "      <td>99.000000</td>\n",
              "      <td>1.000000</td>\n",
              "    </tr>\n",
              "  </tbody>\n",
              "</table>\n",
              "</div>"
            ],
            "text/plain": [
              "        employee_id  no_of_trainings  ...  avg_training_score   is_promoted\n",
              "count  54808.000000     54808.000000  ...        54808.000000  54808.000000\n",
              "mean   39195.830627         1.253011  ...           63.386750      0.085170\n",
              "std    22586.581449         0.609264  ...           13.371559      0.279137\n",
              "min        1.000000         1.000000  ...           39.000000      0.000000\n",
              "25%    19669.750000         1.000000  ...           51.000000      0.000000\n",
              "50%    39225.500000         1.000000  ...           60.000000      0.000000\n",
              "75%    58730.500000         1.000000  ...           76.000000      0.000000\n",
              "max    78298.000000        10.000000  ...           99.000000      1.000000\n",
              "\n",
              "[8 rows x 9 columns]"
            ]
          },
          "metadata": {
            "tags": []
          },
          "execution_count": 7
        }
      ]
    },
    {
      "cell_type": "markdown",
      "metadata": {
        "id": "Me7HmAhSSk8Y",
        "colab_type": "text"
      },
      "source": [
        "# Data Cleaning(Missing Data)"
      ]
    },
    {
      "cell_type": "code",
      "metadata": {
        "id": "MDMkH3czvHln",
        "colab_type": "code",
        "colab": {}
      },
      "source": [
        ""
      ],
      "execution_count": 0,
      "outputs": []
    },
    {
      "cell_type": "code",
      "metadata": {
        "id": "vA5ygAdmAfaH",
        "colab_type": "code",
        "colab": {}
      },
      "source": [
        "#Checking for missing data\n",
        "train.isnull().sum()"
      ],
      "execution_count": 0,
      "outputs": []
    },
    {
      "cell_type": "markdown",
      "metadata": {
        "id": "IW_NUI3RS85w",
        "colab_type": "text"
      },
      "source": [
        "Education and previous_year_rating have misssing values"
      ]
    },
    {
      "cell_type": "code",
      "metadata": {
        "id": "HM_2KF-fFSza",
        "colab_type": "code",
        "colab": {}
      },
      "source": [
        "#Checking for data types\n",
        "train.dtypes"
      ],
      "execution_count": 0,
      "outputs": []
    },
    {
      "cell_type": "code",
      "metadata": {
        "id": "Goq7mLpjeANv",
        "colab_type": "code",
        "colab": {}
      },
      "source": [
        "train['education'].unique()"
      ],
      "execution_count": 0,
      "outputs": []
    },
    {
      "cell_type": "code",
      "metadata": {
        "id": "SW5A09YpprSf",
        "colab_type": "code",
        "outputId": "3c46b09b-3063-409b-9e59-c424ec006cc3",
        "colab": {
          "base_uri": "https://localhost:8080/",
          "height": 85
        }
      },
      "source": [
        "train['education'].value_counts()"
      ],
      "execution_count": 0,
      "outputs": [
        {
          "output_type": "execute_result",
          "data": {
            "text/plain": [
              "Bachelor's          36669\n",
              "Master's & above    14925\n",
              "Below Secondary       805\n",
              "Name: education, dtype: int64"
            ]
          },
          "metadata": {
            "tags": []
          },
          "execution_count": 63
        }
      ]
    },
    {
      "cell_type": "code",
      "metadata": {
        "id": "OKgzGb4QrEEd",
        "colab_type": "code",
        "colab": {}
      },
      "source": [
        "#Filling with highest number of ouccurences data\n",
        "train['education']=train['education'].transform(lambda x: x.fillna(x.mode()[0]))\n",
        "test['education']=test['education'].transform(lambda x: x.fillna(x.mode()[0]))"
      ],
      "execution_count": 0,
      "outputs": []
    },
    {
      "cell_type": "code",
      "metadata": {
        "id": "7XoGxS0Ss6-Y",
        "colab_type": "code",
        "colab": {}
      },
      "source": [
        "train['education'].value_counts()"
      ],
      "execution_count": 0,
      "outputs": []
    },
    {
      "cell_type": "code",
      "metadata": {
        "id": "blNXiBR1e5GJ",
        "colab_type": "code",
        "colab": {}
      },
      "source": [
        "train['previous_year_rating'].unique()"
      ],
      "execution_count": 0,
      "outputs": []
    },
    {
      "cell_type": "code",
      "metadata": {
        "id": "ldJNYRMN2vBJ",
        "colab_type": "code",
        "colab": {}
      },
      "source": [
        "train['previous_year_rating'].value_counts()\n"
      ],
      "execution_count": 0,
      "outputs": []
    },
    {
      "cell_type": "code",
      "metadata": {
        "id": "pvkJkT4a1Pd8",
        "colab_type": "code",
        "colab": {}
      },
      "source": [
        "#Taking mean and rounding off\n",
        "train['previous_year_rating']=train['previous_year_rating'].fillna(round(train['previous_year_rating'].mean()))\n",
        "train['previous_year_rating'].value_counts()\n",
        "test['previous_year_rating']=test['previous_year_rating'].fillna(round(test['previous_year_rating'].mean()))\n"
      ],
      "execution_count": 0,
      "outputs": []
    },
    {
      "cell_type": "markdown",
      "metadata": {
        "id": "iBkf3Zt3vBKW",
        "colab_type": "text"
      },
      "source": [
        "# HeatMap for checking correlation"
      ]
    },
    {
      "cell_type": "markdown",
      "metadata": {
        "id": "VmJ7IAYNvR-x",
        "colab_type": "text"
      },
      "source": [
        "Function for heatmap"
      ]
    },
    {
      "cell_type": "code",
      "metadata": {
        "id": "4Z86EAeHvNo4",
        "colab_type": "code",
        "colab": {}
      },
      "source": [
        "def generate_heat_map(train):\n",
        "  plt.figure(figsize=(18,15))\n",
        "  correlation_btw_all_train_features = train.corr()\n",
        "  sns.heatmap(correlation_btw_all_train_features,annot=True,cmap=plt.cm.Reds)\n",
        "  plt.show()"
      ],
      "execution_count": 0,
      "outputs": []
    },
    {
      "cell_type": "markdown",
      "metadata": {
        "id": "CtQKPfqvViDz",
        "colab_type": "text"
      },
      "source": [
        "# Downsampling"
      ]
    },
    {
      "cell_type": "markdown",
      "metadata": {
        "id": "8HBVCgwzWDf8",
        "colab_type": "text"
      },
      "source": [
        "As seen during EDA , there is an imbalanced dataset where People promoted are less than non-promoted."
      ]
    },
    {
      "cell_type": "code",
      "metadata": {
        "id": "5FT7wyPL17e3",
        "colab_type": "code",
        "outputId": "dcd47f96-cc6c-4054-f6af-b5e120de4766",
        "colab": {
          "base_uri": "https://localhost:8080/",
          "height": 179
        }
      },
      "source": [
        "train.groupby('is_promoted').count() \n",
        "#Inference class imbalane problem"
      ],
      "execution_count": 0,
      "outputs": [
        {
          "output_type": "execute_result",
          "data": {
            "text/html": [
              "<div>\n",
              "<style scoped>\n",
              "    .dataframe tbody tr th:only-of-type {\n",
              "        vertical-align: middle;\n",
              "    }\n",
              "\n",
              "    .dataframe tbody tr th {\n",
              "        vertical-align: top;\n",
              "    }\n",
              "\n",
              "    .dataframe thead th {\n",
              "        text-align: right;\n",
              "    }\n",
              "</style>\n",
              "<table border=\"1\" class=\"dataframe\">\n",
              "  <thead>\n",
              "    <tr style=\"text-align: right;\">\n",
              "      <th></th>\n",
              "      <th>employee_id</th>\n",
              "      <th>department</th>\n",
              "      <th>region</th>\n",
              "      <th>education</th>\n",
              "      <th>gender</th>\n",
              "      <th>recruitment_channel</th>\n",
              "      <th>no_of_trainings</th>\n",
              "      <th>age</th>\n",
              "      <th>previous_year_rating</th>\n",
              "      <th>length_of_service</th>\n",
              "      <th>KPIs_met &gt;80%</th>\n",
              "      <th>awards_won?</th>\n",
              "      <th>avg_training_score</th>\n",
              "    </tr>\n",
              "    <tr>\n",
              "      <th>is_promoted</th>\n",
              "      <th></th>\n",
              "      <th></th>\n",
              "      <th></th>\n",
              "      <th></th>\n",
              "      <th></th>\n",
              "      <th></th>\n",
              "      <th></th>\n",
              "      <th></th>\n",
              "      <th></th>\n",
              "      <th></th>\n",
              "      <th></th>\n",
              "      <th></th>\n",
              "      <th></th>\n",
              "    </tr>\n",
              "  </thead>\n",
              "  <tbody>\n",
              "    <tr>\n",
              "      <th>0</th>\n",
              "      <td>50140</td>\n",
              "      <td>50140</td>\n",
              "      <td>50140</td>\n",
              "      <td>50140</td>\n",
              "      <td>50140</td>\n",
              "      <td>50140</td>\n",
              "      <td>50140</td>\n",
              "      <td>50140</td>\n",
              "      <td>50140</td>\n",
              "      <td>50140</td>\n",
              "      <td>50140</td>\n",
              "      <td>50140</td>\n",
              "      <td>50140</td>\n",
              "    </tr>\n",
              "    <tr>\n",
              "      <th>1</th>\n",
              "      <td>4668</td>\n",
              "      <td>4668</td>\n",
              "      <td>4668</td>\n",
              "      <td>4668</td>\n",
              "      <td>4668</td>\n",
              "      <td>4668</td>\n",
              "      <td>4668</td>\n",
              "      <td>4668</td>\n",
              "      <td>4668</td>\n",
              "      <td>4668</td>\n",
              "      <td>4668</td>\n",
              "      <td>4668</td>\n",
              "      <td>4668</td>\n",
              "    </tr>\n",
              "  </tbody>\n",
              "</table>\n",
              "</div>"
            ],
            "text/plain": [
              "             employee_id  department  ...  awards_won?  avg_training_score\n",
              "is_promoted                           ...                                 \n",
              "0                  50140       50140  ...        50140               50140\n",
              "1                   4668        4668  ...         4668                4668\n",
              "\n",
              "[2 rows x 13 columns]"
            ]
          },
          "metadata": {
            "tags": []
          },
          "execution_count": 89
        }
      ]
    },
    {
      "cell_type": "code",
      "metadata": {
        "id": "qS8P6e9kXai1",
        "colab_type": "code",
        "outputId": "8a46edd3-a4b6-41fc-de2b-ef3d3874e676",
        "colab": {
          "base_uri": "https://localhost:8080/",
          "height": 280
        }
      },
      "source": [
        "sns.countplot(x='is_promoted', data=train);"
      ],
      "execution_count": 0,
      "outputs": [
        {
          "output_type": "display_data",
          "data": {
            "image/png": "[encoded data removed]",
            "text/plain": [
              "<Figure size 432x288 with 1 Axes>"
            ]
          },
          "metadata": {
            "tags": []
          }
        }
      ]
    },
    {
      "cell_type": "code",
      "metadata": {
        "id": "ZvD5AJSVFrjp",
        "colab_type": "code",
        "outputId": "822c1479-037a-4f7b-f134-a6e01d16f0ce",
        "colab": {
          "base_uri": "https://localhost:8080/",
          "height": 282
        }
      },
      "source": [
        "#Handling class imbalance\n",
        "\"\"\"\n",
        "promoted_df= train['is_promoted'] == 1\n",
        "\n",
        "#Randomly select 492 observations from the non-fraud (majority class)\n",
        "non_promoted_df= train['is_promoted'] == 0\n",
        "\n",
        "# Concatenate both dataframes again\n",
        "normalized_df = pd.concat([promoted_df, non_promoted_df])\n",
        "\n",
        "#plot the dataset after the undersampling\n",
        "plt.figure(figsize=(8, 8))\n",
        "sb.countplot( train['is_promoted'],data=normalized_df)\n",
        "plt.title('Balanced Classes')\n",
        "plt.show()\n",
        "\"\"\"\n"
      ],
      "execution_count": 0,
      "outputs": [
        {
          "output_type": "execute_result",
          "data": {
            "text/plain": [
              "<BarContainer object of 2 artists>"
            ]
          },
          "metadata": {
            "tags": []
          },
          "execution_count": 7
        },
        {
          "output_type": "display_data",
          "data": {
            "image/png": "[encoded data removed]",
            "text/plain": [
              "<Figure size 432x288 with 1 Axes>"
            ]
          },
          "metadata": {
            "tags": []
          }
        }
      ]
    },
    {
      "cell_type": "code",
      "metadata": {
        "id": "QbBx96kDNvXU",
        "colab_type": "code",
        "outputId": "ae962da8-2886-4eed-b5f1-706b9f804f49",
        "colab": {
          "base_uri": "https://localhost:8080/",
          "height": 68
        }
      },
      "source": [
        "train['is_promoted'].value_counts()"
      ],
      "execution_count": 0,
      "outputs": [
        {
          "output_type": "execute_result",
          "data": {
            "text/plain": [
              "0    50140\n",
              "1     4668\n",
              "Name: is_promoted, dtype: int64"
            ]
          },
          "metadata": {
            "tags": []
          },
          "execution_count": 72
        }
      ]
    },
    {
      "cell_type": "code",
      "metadata": {
        "id": "gdTfccapSKFt",
        "colab_type": "code",
        "outputId": "236c8c76-fb5c-4386-a381-20c9e533a356",
        "colab": {
          "base_uri": "https://localhost:8080/",
          "height": 221
        }
      },
      "source": [
        "train.is_promoted"
      ],
      "execution_count": 0,
      "outputs": [
        {
          "output_type": "execute_result",
          "data": {
            "text/plain": [
              "0        0\n",
              "1        0\n",
              "2        0\n",
              "3        0\n",
              "4        0\n",
              "        ..\n",
              "54803    0\n",
              "54804    0\n",
              "54805    0\n",
              "54806    0\n",
              "54807    0\n",
              "Name: is_promoted, Length: 54808, dtype: int64"
            ]
          },
          "metadata": {
            "tags": []
          },
          "execution_count": 82
        }
      ]
    },
    {
      "cell_type": "code",
      "metadata": {
        "id": "g_WqqjozNYpD",
        "colab_type": "code",
        "outputId": "16f3e3bb-8e00-4d8f-f039-58c33a68c004",
        "colab": {
          "base_uri": "https://localhost:8080/",
          "height": 68
        }
      },
      "source": [
        "#Downsampling\n",
        "promoted_df= train[train.is_promoted == 1]\n",
        "non_promoted_df= train[train.is_promoted == 0]\n",
        "from sklearn.utils import resample\n",
        "non_promoted_df_downsampled = resample(non_promoted_df, \n",
        "                                 replace=False,    # sample without replacement\n",
        "                                 n_samples=4668,     # to match minority class\n",
        "                                 random_state=42) # reproducible results\n",
        " \n",
        "# Combine minority class with downsampled majority class\n",
        "df_downsampled = pd.concat([non_promoted_df_downsampled, promoted_df])\n",
        " \n",
        "# Display new class counts\n",
        "df_downsampled.is_promoted.value_counts()"
      ],
      "execution_count": 0,
      "outputs": [
        {
          "output_type": "execute_result",
          "data": {
            "text/plain": [
              "1    4668\n",
              "0    4668\n",
              "Name: is_promoted, dtype: int64"
            ]
          },
          "metadata": {
            "tags": []
          },
          "execution_count": 9
        }
      ]
    },
    {
      "cell_type": "markdown",
      "metadata": {
        "id": "rY54n4EJaQ7V",
        "colab_type": "text"
      },
      "source": [
        "\\\n",
        "# Encoding"
      ]
    },
    {
      "cell_type": "code",
      "metadata": {
        "id": "vr7P5dPpDyTs",
        "colab_type": "code",
        "colab": {}
      },
      "source": [
        "#ENCODING\n",
        "def get_dummies(df):\n",
        "  categorical_feature_mask = df.dtypes==object\n",
        "  categorical_cols = df.columns[categorical_feature_mask].tolist()\n",
        "\n",
        "  return pd.get_dummies(df, columns=categorical_cols) \n",
        "  "
      ],
      "execution_count": 0,
      "outputs": []
    },
    {
      "cell_type": "markdown",
      "metadata": {
        "id": "rKSeqVF-aAS0",
        "colab_type": "text"
      },
      "source": [
        "# Feature Engineering"
      ]
    },
    {
      "cell_type": "code",
      "metadata": {
        "id": "olLDF9K5MQU6",
        "colab_type": "code",
        "colab": {}
      },
      "source": [
        "#New features\n",
        "train['total_performance']=train['KPIs_met >80%']+train['awards_won?']+train['previous_year_rating']\n",
        "train['training_performance_weight']=train['avg_training_score']*train['no_of_trainings']"
      ],
      "execution_count": 0,
      "outputs": []
    },
    {
      "cell_type": "code",
      "metadata": {
        "id": "_UfoDMucMS4I",
        "colab_type": "code",
        "colab": {}
      },
      "source": [
        "#heatmap \n",
        "generate_heat_map(train)"
      ],
      "execution_count": 0,
      "outputs": []
    },
    {
      "cell_type": "code",
      "metadata": {
        "id": "VOQLdNSd7LTl",
        "colab_type": "code",
        "colab": {}
      },
      "source": [
        "X_train=get_dummies(train)"
      ],
      "execution_count": 0,
      "outputs": []
    },
    {
      "cell_type": "code",
      "metadata": {
        "id": "3JjmRtjnU_u5",
        "colab_type": "code",
        "colab": {
          "base_uri": "https://localhost:8080/",
          "height": 241
        },
        "outputId": "250b04ce-c2fa-435a-c3f9-32b121e80c6c"
      },
      "source": [
        "#To see encoded variables\n",
        "X_train.head()"
      ],
      "execution_count": 44,
      "outputs": [
        {
          "output_type": "execute_result",
          "data": {
            "text/html": [
              "<div>\n",
              "<style scoped>\n",
              "    .dataframe tbody tr th:only-of-type {\n",
              "        vertical-align: middle;\n",
              "    }\n",
              "\n",
              "    .dataframe tbody tr th {\n",
              "        vertical-align: top;\n",
              "    }\n",
              "\n",
              "    .dataframe thead th {\n",
              "        text-align: right;\n",
              "    }\n",
              "</style>\n",
              "<table border=\"1\" class=\"dataframe\">\n",
              "  <thead>\n",
              "    <tr style=\"text-align: right;\">\n",
              "      <th></th>\n",
              "      <th>employee_id</th>\n",
              "      <th>no_of_trainings</th>\n",
              "      <th>age</th>\n",
              "      <th>previous_year_rating</th>\n",
              "      <th>length_of_service</th>\n",
              "      <th>KPIs_met &gt;80%</th>\n",
              "      <th>awards_won?</th>\n",
              "      <th>avg_training_score</th>\n",
              "      <th>is_promoted</th>\n",
              "      <th>total_performance</th>\n",
              "      <th>training_performance_weight</th>\n",
              "      <th>department_Analytics</th>\n",
              "      <th>department_Finance</th>\n",
              "      <th>department_HR</th>\n",
              "      <th>department_Legal</th>\n",
              "      <th>department_Operations</th>\n",
              "      <th>department_Procurement</th>\n",
              "      <th>department_R&amp;D</th>\n",
              "      <th>department_Sales &amp; Marketing</th>\n",
              "      <th>department_Technology</th>\n",
              "      <th>region_region_1</th>\n",
              "      <th>region_region_10</th>\n",
              "      <th>region_region_11</th>\n",
              "      <th>region_region_12</th>\n",
              "      <th>region_region_13</th>\n",
              "      <th>region_region_14</th>\n",
              "      <th>region_region_15</th>\n",
              "      <th>region_region_16</th>\n",
              "      <th>region_region_17</th>\n",
              "      <th>region_region_18</th>\n",
              "      <th>region_region_19</th>\n",
              "      <th>region_region_2</th>\n",
              "      <th>region_region_20</th>\n",
              "      <th>region_region_21</th>\n",
              "      <th>region_region_22</th>\n",
              "      <th>region_region_23</th>\n",
              "      <th>region_region_24</th>\n",
              "      <th>region_region_25</th>\n",
              "      <th>region_region_26</th>\n",
              "      <th>region_region_27</th>\n",
              "      <th>region_region_28</th>\n",
              "      <th>region_region_29</th>\n",
              "      <th>region_region_3</th>\n",
              "      <th>region_region_30</th>\n",
              "      <th>region_region_31</th>\n",
              "      <th>region_region_32</th>\n",
              "      <th>region_region_33</th>\n",
              "      <th>region_region_34</th>\n",
              "      <th>region_region_4</th>\n",
              "      <th>region_region_5</th>\n",
              "      <th>region_region_6</th>\n",
              "      <th>region_region_7</th>\n",
              "      <th>region_region_8</th>\n",
              "      <th>region_region_9</th>\n",
              "      <th>education_Bachelor's</th>\n",
              "      <th>education_Below Secondary</th>\n",
              "      <th>education_Master's &amp; above</th>\n",
              "      <th>gender_f</th>\n",
              "      <th>gender_m</th>\n",
              "      <th>recruitment_channel_other</th>\n",
              "      <th>recruitment_channel_referred</th>\n",
              "      <th>recruitment_channel_sourcing</th>\n",
              "    </tr>\n",
              "  </thead>\n",
              "  <tbody>\n",
              "    <tr>\n",
              "      <th>0</th>\n",
              "      <td>65438</td>\n",
              "      <td>1</td>\n",
              "      <td>35</td>\n",
              "      <td>5.0</td>\n",
              "      <td>8</td>\n",
              "      <td>1</td>\n",
              "      <td>0</td>\n",
              "      <td>49</td>\n",
              "      <td>0</td>\n",
              "      <td>6.0</td>\n",
              "      <td>49</td>\n",
              "      <td>0</td>\n",
              "      <td>0</td>\n",
              "      <td>0</td>\n",
              "      <td>0</td>\n",
              "      <td>0</td>\n",
              "      <td>0</td>\n",
              "      <td>0</td>\n",
              "      <td>1</td>\n",
              "      <td>0</td>\n",
              "      <td>0</td>\n",
              "      <td>0</td>\n",
              "      <td>0</td>\n",
              "      <td>0</td>\n",
              "      <td>0</td>\n",
              "      <td>0</td>\n",
              "      <td>0</td>\n",
              "      <td>0</td>\n",
              "      <td>0</td>\n",
              "      <td>0</td>\n",
              "      <td>0</td>\n",
              "      <td>0</td>\n",
              "      <td>0</td>\n",
              "      <td>0</td>\n",
              "      <td>0</td>\n",
              "      <td>0</td>\n",
              "      <td>0</td>\n",
              "      <td>0</td>\n",
              "      <td>0</td>\n",
              "      <td>0</td>\n",
              "      <td>0</td>\n",
              "      <td>0</td>\n",
              "      <td>0</td>\n",
              "      <td>0</td>\n",
              "      <td>0</td>\n",
              "      <td>0</td>\n",
              "      <td>0</td>\n",
              "      <td>0</td>\n",
              "      <td>0</td>\n",
              "      <td>0</td>\n",
              "      <td>0</td>\n",
              "      <td>1</td>\n",
              "      <td>0</td>\n",
              "      <td>0</td>\n",
              "      <td>0</td>\n",
              "      <td>0</td>\n",
              "      <td>1</td>\n",
              "      <td>1</td>\n",
              "      <td>0</td>\n",
              "      <td>0</td>\n",
              "      <td>0</td>\n",
              "      <td>1</td>\n",
              "    </tr>\n",
              "    <tr>\n",
              "      <th>1</th>\n",
              "      <td>65141</td>\n",
              "      <td>1</td>\n",
              "      <td>30</td>\n",
              "      <td>5.0</td>\n",
              "      <td>4</td>\n",
              "      <td>0</td>\n",
              "      <td>0</td>\n",
              "      <td>60</td>\n",
              "      <td>0</td>\n",
              "      <td>5.0</td>\n",
              "      <td>60</td>\n",
              "      <td>0</td>\n",
              "      <td>0</td>\n",
              "      <td>0</td>\n",
              "      <td>0</td>\n",
              "      <td>1</td>\n",
              "      <td>0</td>\n",
              "      <td>0</td>\n",
              "      <td>0</td>\n",
              "      <td>0</td>\n",
              "      <td>0</td>\n",
              "      <td>0</td>\n",
              "      <td>0</td>\n",
              "      <td>0</td>\n",
              "      <td>0</td>\n",
              "      <td>0</td>\n",
              "      <td>0</td>\n",
              "      <td>0</td>\n",
              "      <td>0</td>\n",
              "      <td>0</td>\n",
              "      <td>0</td>\n",
              "      <td>0</td>\n",
              "      <td>0</td>\n",
              "      <td>0</td>\n",
              "      <td>1</td>\n",
              "      <td>0</td>\n",
              "      <td>0</td>\n",
              "      <td>0</td>\n",
              "      <td>0</td>\n",
              "      <td>0</td>\n",
              "      <td>0</td>\n",
              "      <td>0</td>\n",
              "      <td>0</td>\n",
              "      <td>0</td>\n",
              "      <td>0</td>\n",
              "      <td>0</td>\n",
              "      <td>0</td>\n",
              "      <td>0</td>\n",
              "      <td>0</td>\n",
              "      <td>0</td>\n",
              "      <td>0</td>\n",
              "      <td>0</td>\n",
              "      <td>0</td>\n",
              "      <td>0</td>\n",
              "      <td>1</td>\n",
              "      <td>0</td>\n",
              "      <td>0</td>\n",
              "      <td>0</td>\n",
              "      <td>1</td>\n",
              "      <td>1</td>\n",
              "      <td>0</td>\n",
              "      <td>0</td>\n",
              "    </tr>\n",
              "    <tr>\n",
              "      <th>2</th>\n",
              "      <td>7513</td>\n",
              "      <td>1</td>\n",
              "      <td>34</td>\n",
              "      <td>3.0</td>\n",
              "      <td>7</td>\n",
              "      <td>0</td>\n",
              "      <td>0</td>\n",
              "      <td>50</td>\n",
              "      <td>0</td>\n",
              "      <td>3.0</td>\n",
              "      <td>50</td>\n",
              "      <td>0</td>\n",
              "      <td>0</td>\n",
              "      <td>0</td>\n",
              "      <td>0</td>\n",
              "      <td>0</td>\n",
              "      <td>0</td>\n",
              "      <td>0</td>\n",
              "      <td>1</td>\n",
              "      <td>0</td>\n",
              "      <td>0</td>\n",
              "      <td>0</td>\n",
              "      <td>0</td>\n",
              "      <td>0</td>\n",
              "      <td>0</td>\n",
              "      <td>0</td>\n",
              "      <td>0</td>\n",
              "      <td>0</td>\n",
              "      <td>0</td>\n",
              "      <td>0</td>\n",
              "      <td>1</td>\n",
              "      <td>0</td>\n",
              "      <td>0</td>\n",
              "      <td>0</td>\n",
              "      <td>0</td>\n",
              "      <td>0</td>\n",
              "      <td>0</td>\n",
              "      <td>0</td>\n",
              "      <td>0</td>\n",
              "      <td>0</td>\n",
              "      <td>0</td>\n",
              "      <td>0</td>\n",
              "      <td>0</td>\n",
              "      <td>0</td>\n",
              "      <td>0</td>\n",
              "      <td>0</td>\n",
              "      <td>0</td>\n",
              "      <td>0</td>\n",
              "      <td>0</td>\n",
              "      <td>0</td>\n",
              "      <td>0</td>\n",
              "      <td>0</td>\n",
              "      <td>0</td>\n",
              "      <td>0</td>\n",
              "      <td>1</td>\n",
              "      <td>0</td>\n",
              "      <td>0</td>\n",
              "      <td>0</td>\n",
              "      <td>1</td>\n",
              "      <td>0</td>\n",
              "      <td>0</td>\n",
              "      <td>1</td>\n",
              "    </tr>\n",
              "    <tr>\n",
              "      <th>3</th>\n",
              "      <td>2542</td>\n",
              "      <td>2</td>\n",
              "      <td>39</td>\n",
              "      <td>1.0</td>\n",
              "      <td>10</td>\n",
              "      <td>0</td>\n",
              "      <td>0</td>\n",
              "      <td>50</td>\n",
              "      <td>0</td>\n",
              "      <td>1.0</td>\n",
              "      <td>100</td>\n",
              "      <td>0</td>\n",
              "      <td>0</td>\n",
              "      <td>0</td>\n",
              "      <td>0</td>\n",
              "      <td>0</td>\n",
              "      <td>0</td>\n",
              "      <td>0</td>\n",
              "      <td>1</td>\n",
              "      <td>0</td>\n",
              "      <td>0</td>\n",
              "      <td>0</td>\n",
              "      <td>0</td>\n",
              "      <td>0</td>\n",
              "      <td>0</td>\n",
              "      <td>0</td>\n",
              "      <td>0</td>\n",
              "      <td>0</td>\n",
              "      <td>0</td>\n",
              "      <td>0</td>\n",
              "      <td>0</td>\n",
              "      <td>0</td>\n",
              "      <td>0</td>\n",
              "      <td>0</td>\n",
              "      <td>0</td>\n",
              "      <td>1</td>\n",
              "      <td>0</td>\n",
              "      <td>0</td>\n",
              "      <td>0</td>\n",
              "      <td>0</td>\n",
              "      <td>0</td>\n",
              "      <td>0</td>\n",
              "      <td>0</td>\n",
              "      <td>0</td>\n",
              "      <td>0</td>\n",
              "      <td>0</td>\n",
              "      <td>0</td>\n",
              "      <td>0</td>\n",
              "      <td>0</td>\n",
              "      <td>0</td>\n",
              "      <td>0</td>\n",
              "      <td>0</td>\n",
              "      <td>0</td>\n",
              "      <td>0</td>\n",
              "      <td>1</td>\n",
              "      <td>0</td>\n",
              "      <td>0</td>\n",
              "      <td>0</td>\n",
              "      <td>1</td>\n",
              "      <td>1</td>\n",
              "      <td>0</td>\n",
              "      <td>0</td>\n",
              "    </tr>\n",
              "    <tr>\n",
              "      <th>4</th>\n",
              "      <td>48945</td>\n",
              "      <td>1</td>\n",
              "      <td>45</td>\n",
              "      <td>3.0</td>\n",
              "      <td>2</td>\n",
              "      <td>0</td>\n",
              "      <td>0</td>\n",
              "      <td>73</td>\n",
              "      <td>0</td>\n",
              "      <td>3.0</td>\n",
              "      <td>73</td>\n",
              "      <td>0</td>\n",
              "      <td>0</td>\n",
              "      <td>0</td>\n",
              "      <td>0</td>\n",
              "      <td>0</td>\n",
              "      <td>0</td>\n",
              "      <td>0</td>\n",
              "      <td>0</td>\n",
              "      <td>1</td>\n",
              "      <td>0</td>\n",
              "      <td>0</td>\n",
              "      <td>0</td>\n",
              "      <td>0</td>\n",
              "      <td>0</td>\n",
              "      <td>0</td>\n",
              "      <td>0</td>\n",
              "      <td>0</td>\n",
              "      <td>0</td>\n",
              "      <td>0</td>\n",
              "      <td>0</td>\n",
              "      <td>0</td>\n",
              "      <td>0</td>\n",
              "      <td>0</td>\n",
              "      <td>0</td>\n",
              "      <td>0</td>\n",
              "      <td>0</td>\n",
              "      <td>0</td>\n",
              "      <td>1</td>\n",
              "      <td>0</td>\n",
              "      <td>0</td>\n",
              "      <td>0</td>\n",
              "      <td>0</td>\n",
              "      <td>0</td>\n",
              "      <td>0</td>\n",
              "      <td>0</td>\n",
              "      <td>0</td>\n",
              "      <td>0</td>\n",
              "      <td>0</td>\n",
              "      <td>0</td>\n",
              "      <td>0</td>\n",
              "      <td>0</td>\n",
              "      <td>0</td>\n",
              "      <td>0</td>\n",
              "      <td>1</td>\n",
              "      <td>0</td>\n",
              "      <td>0</td>\n",
              "      <td>0</td>\n",
              "      <td>1</td>\n",
              "      <td>1</td>\n",
              "      <td>0</td>\n",
              "      <td>0</td>\n",
              "    </tr>\n",
              "  </tbody>\n",
              "</table>\n",
              "</div>"
            ],
            "text/plain": [
              "   employee_id  ...  recruitment_channel_sourcing\n",
              "0        65438  ...                             1\n",
              "1        65141  ...                             0\n",
              "2         7513  ...                             1\n",
              "3         2542  ...                             0\n",
              "4        48945  ...                             0\n",
              "\n",
              "[5 rows x 62 columns]"
            ]
          },
          "metadata": {
            "tags": []
          },
          "execution_count": 44
        }
      ]
    },
    {
      "cell_type": "code",
      "metadata": {
        "id": "SuYwTMI0MCAA",
        "colab_type": "code",
        "colab": {}
      },
      "source": [
        "generate_heat_map(X_train)"
      ],
      "execution_count": 0,
      "outputs": []
    },
    {
      "cell_type": "code",
      "metadata": {
        "id": "qd5adVulLcBb",
        "colab_type": "code",
        "colab": {}
      },
      "source": [
        "#Separating the dependent variable\n",
        "y_train= X_train['is_promoted']\n",
        "X_train= X_train.drop(['is_promoted'],axis=1)"
      ],
      "execution_count": 0,
      "outputs": []
    },
    {
      "cell_type": "code",
      "metadata": {
        "id": "2jPU0R4M0Ezw",
        "colab_type": "code",
        "colab": {}
      },
      "source": [
        "#features_selected_corr=['avg_training_score','previous_year_rating','KPIs_met >80%','awards_won?','total_performance','training_performance_weight']\n",
        "\n",
        "#X_train=X_train[features_selected_corr]"
      ],
      "execution_count": 0,
      "outputs": []
    },
    {
      "cell_type": "code",
      "metadata": {
        "id": "HH0hO6eKvvSE",
        "colab_type": "code",
        "colab": {}
      },
      "source": [
        "#Use in case of DS\n",
        "#X_train= df_downsampled.drop(['region','employee_id'],axis=1) #because region not req\n",
        "#X_train= train.drop(['employee_id'],axis=1)\n",
        "#X_test= test.drop(['employee_id'],axis=1) \n"
      ],
      "execution_count": 0,
      "outputs": []
    },
    {
      "cell_type": "markdown",
      "metadata": {
        "id": "cm0PyqD5Mx2h",
        "colab_type": "text"
      },
      "source": [
        "#Train Test Split"
      ]
    },
    {
      "cell_type": "code",
      "metadata": {
        "id": "QWcxy3G4CEWt",
        "colab_type": "code",
        "colab": {}
      },
      "source": [
        "from sklearn.model_selection import train_test_split\n",
        "X_train_,X_valid,y_train_,y_valid=train_test_split(X_train,y_train, test_size=0.2)"
      ],
      "execution_count": 0,
      "outputs": []
    },
    {
      "cell_type": "markdown",
      "metadata": {
        "id": "phG6LpDvM6j3",
        "colab_type": "text"
      },
      "source": [
        "# Models"
      ]
    },
    {
      "cell_type": "code",
      "metadata": {
        "id": "YNzjO2SjOra6",
        "colab_type": "code",
        "colab": {}
      },
      "source": [
        "from sklearn.linear_model import LogisticRegression\n",
        "from sklearn.ensemble import RandomForestClassifier"
      ],
      "execution_count": 0,
      "outputs": []
    },
    {
      "cell_type": "code",
      "metadata": {
        "id": "M4m65c6oPMhL",
        "colab_type": "code",
        "colab": {}
      },
      "source": [
        "def print_score_validation(regressor):\n",
        "  predict_train = regressor.predict(X_train)\n",
        "  print('accuracy_score on train dataset : ', accuracy_score(y_train,predict_train))\n",
        "  y_pred_lr=regressor.predict(X_valid)\n",
        "  print('accuracy_score on test dataset : ', accuracy_score(y_valid,y_pred_lr))  \n",
        "  print('F1 score',f1_score(y_valid, y_pred_lr))\n"
      ],
      "execution_count": 0,
      "outputs": []
    },
    {
      "cell_type": "code",
      "metadata": {
        "id": "kSHecJCkEPKG",
        "colab_type": "code",
        "colab": {}
      },
      "source": [
        "regressor_lr=LogisticRegression()\n",
        "regressor_lr.fit(X_train, y_train)\n",
        "#y_pred_lr=regressor_lr.predict(X_test)"
      ],
      "execution_count": 0,
      "outputs": []
    },
    {
      "cell_type": "code",
      "metadata": {
        "id": "Y521zNu7P7fS",
        "colab_type": "code",
        "colab": {}
      },
      "source": [
        "print_score_validation(regressor_lr)"
      ],
      "execution_count": 0,
      "outputs": []
    },
    {
      "cell_type": "code",
      "metadata": {
        "id": "dmhb9XBAAeWh",
        "colab_type": "code",
        "colab": {}
      },
      "source": [
        "\n",
        "model_rf = RandomForestClassifier(n_estimators=100, \n",
        "                               random_state=42, \n",
        "                               max_features = 'sqrt',\n",
        "                               verbose = 1)\n",
        "\n",
        "# Fit on training data\n",
        "model_rf.fit(X_train_, y_train_)\n"
      ],
      "execution_count": 0,
      "outputs": []
    },
    {
      "cell_type": "code",
      "metadata": {
        "id": "lvRcv-BTQuPc",
        "colab_type": "code",
        "colab": {
          "base_uri": "https://localhost:8080/",
          "height": 136
        },
        "outputId": "4099e553-a7c3-4d7f-8f44-0eb169665962"
      },
      "source": [
        "print_score_validation(model_rf)"
      ],
      "execution_count": 66,
      "outputs": [
        {
          "output_type": "stream",
          "text": [
            "[Parallel(n_jobs=1)]: Using backend SequentialBackend with 1 concurrent workers.\n"
          ],
          "name": "stderr"
        },
        {
          "output_type": "stream",
          "text": [
            "accuracy_score on train dataset :  1.0\n",
            "accuracy_score on test dataset :  1.0\n",
            "F1 score 1.0\n"
          ],
          "name": "stdout"
        },
        {
          "output_type": "stream",
          "text": [
            "[Parallel(n_jobs=1)]: Done 100 out of 100 | elapsed:    0.6s finished\n",
            "[Parallel(n_jobs=1)]: Using backend SequentialBackend with 1 concurrent workers.\n",
            "[Parallel(n_jobs=1)]: Done 100 out of 100 | elapsed:    0.1s finished\n"
          ],
          "name": "stderr"
        }
      ]
    },
    {
      "cell_type": "code",
      "metadata": {
        "id": "MCZt8gBpD1Ye",
        "colab_type": "code",
        "colab": {}
      },
      "source": [
        "sorted(zip(model_rf.feature_importances_,X_train),reverse=True)"
      ],
      "execution_count": 0,
      "outputs": []
    },
    {
      "cell_type": "code",
      "metadata": {
        "id": "FqBaf3SyGkZ1",
        "colab_type": "code",
        "colab": {}
      },
      "source": [
        "# features_selected=['avg_training_score','age','length_of_service','previous_year_rating','KPIs_met >80%','awards_won?','no_of_trainings','department_Sales & Marketing','department_Operations','recruitment_channel_other']\n",
        "# X_train= X_train[features_selected]\n",
        "# X_test= X_test[features_selected]\n"
      ],
      "execution_count": 0,
      "outputs": []
    },
    {
      "cell_type": "code",
      "metadata": {
        "id": "pa8mnFEHviZB",
        "colab_type": "code",
        "outputId": "2606da2d-3302-4069-992c-acdb50308cc6",
        "colab": {
          "base_uri": "https://localhost:8080/",
          "height": 88
        }
      },
      "source": [
        "# LGB\n",
        "import lightgbm as lgb\n",
        "num_round=50\n",
        "train_data=lgb.Dataset(X_train,label=y_train)\n",
        "param = {'num_leaves':150, 'objective':'binary','max_depth':9,'learning_rate':.04,'max_bin':200, 'n_estimators': 390 ,'reg_alpha': 0.4 }\n",
        "param['metric'] = ['auc', 'binary_logloss','f1_score']\n",
        "lgbm=lgb.train(param,train_data,num_round)\n",
        "\n",
        "\n",
        "\"\"\"\n",
        "lgboosting = lgb.LGBMClassifier(objective='binary')\n",
        "# Fitting LightGBM model\n",
        "lgboosting.fit( X_train_, y_train_, eval_set=[(X_valid, y_valid)], eval_metric='f1_score', early_stopping_rounds=150)\n",
        "\n",
        "def evalerror(preds, dtrain):\n",
        "  labels = dtrain.get_label()\n",
        "  #preds = preds.reshape(-1, 5)\n",
        "  #preds = preds.argmax(axis = 1)\n",
        "  f_score = f1_score(preds, labels, average = 'weighted')\n",
        "  return 'f1_score', f_score, True\n",
        "\n",
        "dtrain = lgb.Dataset(train_, label= train_Y, free_raw_data = False)\n",
        "dvalid = lgb.Dataset(valid_X, label= valid_Y, free_raw_data = False,\n",
        "reference= dtrain)\n",
        "\"\"\"\n",
        "\n",
        "\n",
        "'''\n",
        "d_train = lgb.Dataset(x_train, label=y_train)\n",
        "params = {}\n",
        "params['learning_rate'] = 0.003\n",
        "params['boosting_type'] = 'gbdt'\n",
        "params['objective'] = 'binary'\n",
        "params['metric'] = 'binary_logloss'\n",
        "params['sub_feature'] = 0.5\n",
        "params['num_leaves'] = 10\n",
        "params['min_data'] = 50\n",
        "params['max_depth'] = 10\n",
        "clf = lgb.train(params, d_train, 100)\n",
        "'''"
      ],
      "execution_count": 0,
      "outputs": [
        {
          "output_type": "stream",
          "text": [
            "/usr/local/lib/python3.6/dist-packages/lightgbm/engine.py:118: UserWarning: Found `n_estimators` in params. Will use it instead of argument\n",
            "  warnings.warn(\"Found `{}` in params. Will use it instead of argument\".format(alias))\n"
          ],
          "name": "stderr"
        },
        {
          "output_type": "execute_result",
          "data": {
            "text/plain": [
              "\"\\nd_train = lgb.Dataset(x_train, label=y_train)\\nparams = {}\\nparams['learning_rate'] = 0.003\\nparams['boosting_type'] = 'gbdt'\\nparams['objective'] = 'binary'\\nparams['metric'] = 'binary_logloss'\\nparams['sub_feature'] = 0.5\\nparams['num_leaves'] = 10\\nparams['min_data'] = 50\\nparams['max_depth'] = 10\\nclf = lgb.train(params, d_train, 100)\\n\""
            ]
          },
          "metadata": {
            "tags": []
          },
          "execution_count": 70
        }
      ]
    },
    {
      "cell_type": "code",
      "metadata": {
        "id": "5nnVcAvO7RMb",
        "colab_type": "code",
        "outputId": "b02513ad-1b53-46f3-f983-dea7e5e96685",
        "colab": {
          "base_uri": "https://localhost:8080/",
          "height": 34
        }
      },
      "source": [
        "#For X_TEST\n",
        "y_pred_lgb=lgbm.predict(X_test)\n",
        "print(y_pred_lgb.shape)\n",
        "y_pred_lgb[y_pred_lgb >=0.5] = 1\n",
        "y_pred_lgb[y_pred_lgb<0.5] = 0\n",
        "#predict_train_lgb = model_rf.predict(X_train)\n",
        "#print('accuracy_score on train dataset : ', accuracy_score(y_train,predict_train_lgb))\n",
        "\n",
        "#print('accuracy_score on test dataset : ', accuracy_score(y_train,y_pred_lgb))\n",
        "\n",
        "#print('F1 score',f1_score(y_valid, y_pred_lgb))"
      ],
      "execution_count": 0,
      "outputs": [
        {
          "output_type": "stream",
          "text": [
            "(23490,)\n"
          ],
          "name": "stdout"
        }
      ]
    },
    {
      "cell_type": "code",
      "metadata": {
        "id": "XNno8yvUHJOY",
        "colab_type": "code",
        "outputId": "61ec273c-54bb-48f3-a78e-4e714fac910d",
        "colab": {
          "base_uri": "https://localhost:8080/",
          "height": 51
        }
      },
      "source": [
        "# FOR VALIDATION TESTING\n",
        "#predict_train_lgb[predict_train_lgb >=0.5] = 1\n",
        "#predict_train_lgb[predict_train_lgb<0.5] = 0\n",
        "#predict_train_lgb = lgbm.predict(X_train_)\n",
        "#print('accuracy_score on train dataset : ', accuracy_score(y_train_,predict_train_lgb))\n",
        "\n",
        "\n",
        "y_pred_lgb=lgbm.predict(X_valid)\n",
        "y_pred_lgb[y_pred_lgb >=0.5] = 1\n",
        "y_pred_lgb[y_pred_lgb<0.5] = 0\n",
        "\n",
        "print('accuracy_score on test dataset : ', accuracy_score(y_valid,y_pred_lgb))\n",
        "\n",
        "print('F1 score',f1_score(y_valid, y_pred_lgb))\n"
      ],
      "execution_count": 0,
      "outputs": [
        {
          "output_type": "stream",
          "text": [
            "accuracy_score on test dataset :  0.9271118409049444\n",
            "F1 score 0.2742960944595822\n"
          ],
          "name": "stdout"
        }
      ]
    },
    {
      "cell_type": "markdown",
      "metadata": {
        "id": "Jo3x8Sg51v6I",
        "colab_type": "text"
      },
      "source": [
        ""
      ]
    },
    {
      "cell_type": "code",
      "metadata": {
        "id": "7JwXgq2NA2-t",
        "colab_type": "code",
        "colab": {}
      },
      "source": [
        "\"\"\"\n",
        "1. param = {'num_leaves':150, 'objective':'binary','max_depth':7,'learning_rate':.05,'max_bin':200}\n",
        "2.param = {'num_leaves':150, 'objective':'binary','max_depth':9,'learning_rate':.05,'max_bin':200}\n",
        "3.param = {'num_leaves':100, 'objective':'binary','max_depth':9,'learning_rate':.05,'max_bin':200}\n",
        "F1 score 0.5177025963808025\n",
        "4.param = {'num_leaves':150, 'objective':'binary','max_depth':9,'learning_rate':.08,'max_bin':200}\n",
        "F1 score 0.5221445221445221\n",
        "5.param = {'num_leaves':150, 'objective':'binary','max_depth':9,'learning_rate':.04,'max_bin':200, 'n_estimators': 1000 ,\n",
        "F1 score 0.5253118121790168\n",
        "6.param = {'num_leaves':150, 'objective':'binary','max_depth':9,'learning_rate':.04,'max_bin':200, 'n_estimators': 1000 ,'reg_alpha': 0.4 }\n",
        "F1 score 0.5279187817258882\n",
        "7.'n_estimators': 1100\n",
        "F1 score 0.5293691080493111\n",
        "8.'n_estimators': 390 \n",
        "F1 score 0.539156626506024\n",
        "\"\"\""
      ],
      "execution_count": 0,
      "outputs": []
    },
    {
      "cell_type": "code",
      "metadata": {
        "id": "Xl9qx1VbO-NY",
        "colab_type": "code",
        "outputId": "df77e180-a587-4481-dc77-8398ee18a91e",
        "colab": {
          "base_uri": "https://localhost:8080/",
          "height": 119
        }
      },
      "source": [
        "from sklearn.tree import DecisionTreeClassifier\n",
        "dtc=DecisionTreeClassifier(max_depth=9,min_samples_split=2,\n",
        "                                random_state=42)\n",
        "dtc.fit(X_train_, y_train_)\n"
      ],
      "execution_count": 67,
      "outputs": [
        {
          "output_type": "execute_result",
          "data": {
            "text/plain": [
              "DecisionTreeClassifier(ccp_alpha=0.0, class_weight=None, criterion='gini',\n",
              "                       max_depth=9, max_features=None, max_leaf_nodes=None,\n",
              "                       min_impurity_decrease=0.0, min_impurity_split=None,\n",
              "                       min_samples_leaf=1, min_samples_split=2,\n",
              "                       min_weight_fraction_leaf=0.0, presort='deprecated',\n",
              "                       random_state=42, splitter='best')"
            ]
          },
          "metadata": {
            "tags": []
          },
          "execution_count": 67
        }
      ]
    },
    {
      "cell_type": "code",
      "metadata": {
        "id": "yIF1U-WLRMWH",
        "colab_type": "code",
        "colab": {
          "base_uri": "https://localhost:8080/",
          "height": 68
        },
        "outputId": "a99d5cdd-29dd-4a35-8456-020c5bd25076"
      },
      "source": [
        "print_score_validation(dtc)"
      ],
      "execution_count": 68,
      "outputs": [
        {
          "output_type": "stream",
          "text": [
            "accuracy_score on train dataset :  1.0\n",
            "accuracy_score on test dataset :  1.0\n",
            "F1 score 1.0\n"
          ],
          "name": "stdout"
        }
      ]
    },
    {
      "cell_type": "code",
      "metadata": {
        "id": "oaH4UyNfSvtw",
        "colab_type": "code",
        "outputId": "9ccaef17-252e-4882-eeea-264cfc55fd7e",
        "colab": {
          "base_uri": "https://localhost:8080/",
          "height": 68
        }
      },
      "source": [
        "from sklearn.svm import SVC\n",
        "svc_model=SVC(C=1.0, kernel='rbf', degree=3)\n",
        "svc_model.fit(X_train_, y_train_)\n",
        "svc_model= dtc.predict(X_train_)\n"
      ],
      "execution_count": 0,
      "outputs": [
        {
          "output_type": "stream",
          "text": [
            "accuracy_score on train dataset :  0.9290471194635771\n",
            "accuracy_score on test dataset :  0.9278416347381865\n",
            "F1 score 0.2736455463728191\n"
          ],
          "name": "stdout"
        }
      ]
    },
    {
      "cell_type": "code",
      "metadata": {
        "id": "JNBPt_CpRPy3",
        "colab_type": "code",
        "colab": {}
      },
      "source": [
        "print_score_validation(svc_model)"
      ],
      "execution_count": 0,
      "outputs": []
    },
    {
      "cell_type": "code",
      "metadata": {
        "id": "yD3UX-PN9eCu",
        "colab_type": "code",
        "outputId": "f7f6cfcc-0d01-40dd-ec9b-3c2bfc64cc85",
        "colab": {
          "base_uri": "https://localhost:8080/",
          "height": 34
        }
      },
      "source": [
        "y_pred_lgb=y_pred_lgb.astype(int)\n",
        "y_pred_lgb.dtype"
      ],
      "execution_count": 0,
      "outputs": [
        {
          "output_type": "execute_result",
          "data": {
            "text/plain": [
              "dtype('int64')"
            ]
          },
          "metadata": {
            "tags": []
          },
          "execution_count": 59
        }
      ]
    },
    {
      "cell_type": "code",
      "metadata": {
        "id": "j9g-IgWmMYNT",
        "colab_type": "code",
        "colab": {}
      },
      "source": [
        "sub_file = pd.DataFrame(columns=['employee_id', 'is_promoted'])\n",
        "sub_file['employee_id'] = test['employee_id']\n",
        "sub_file['is_promoted'] = y_pred_lgb\n",
        "sub_file.to_csv(f'submissions_HR_analytics_RF_5.csv', index=False)\n",
        "from google.colab import files\n",
        "files.download('submissions_HR_analytics_RF_5.csv') "
      ],
      "execution_count": 0,
      "outputs": []
    }
  ]
}